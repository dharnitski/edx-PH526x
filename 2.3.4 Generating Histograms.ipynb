{
 "cells": [
  {
   "cell_type": "code",
   "execution_count": 3,
   "metadata": {},
   "outputs": [
    {
     "data": {
      "text/plain": [
       "(array([  4.,  10.,  47., 138., 232., 268., 179.,  97.,  20.,   5.]),\n",
       " array([-3.40684152, -2.74858449, -2.09032747, -1.43207044, -0.77381342,\n",
       "        -0.1155564 ,  0.54270063,  1.20095765,  1.85921468,  2.5174717 ,\n",
       "         3.17572873]),\n",
       " <a list of 10 Patch objects>)"
      ]
     },
     "execution_count": 3,
     "metadata": {},
     "output_type": "execute_result"
    },
    {
     "data": {
      "image/png": "[encoded data removed]",
      "text/plain": [
       "<Figure size 432x288 with 1 Axes>"
      ]
     },
     "metadata": {
      "needs_background": "light"
     },
     "output_type": "display_data"
    }
   ],
   "source": [
    "import matplotlib.pyplot as plt\n",
    "import numpy as np\n",
    "\n",
    "x = np.random.normal(size=1000)\n",
    "plt.hist(x)"
   ]
  },
  {
   "cell_type": "code",
   "execution_count": 5,
   "metadata": {},
   "outputs": [
    {
     "data": {
      "text/plain": [
       "(array([0.00607665, 0.01519163, 0.07140068, 0.20964455, 0.35244592,\n",
       "        0.4071358 , 0.27193025, 0.14735885, 0.03038327, 0.00759582]),\n",
       " array([-3.40684152, -2.74858449, -2.09032747, -1.43207044, -0.77381342,\n",
       "        -0.1155564 ,  0.54270063,  1.20095765,  1.85921468,  2.5174717 ,\n",
       "         3.17572873]),\n",
       " <a list of 10 Patch objects>)"
      ]
     },
     "execution_count": 5,
     "metadata": {},
     "output_type": "execute_result"
    },
    {
     "data": {
      "image/png": "[encoded data removed]",
      "text/plain": [
       "<Figure size 432x288 with 1 Axes>"
      ]
     },
     "metadata": {
      "needs_background": "light"
     },
     "output_type": "display_data"
    }
   ],
   "source": [
    "plt.hist(x, density=True)"
   ]
  },
  {
   "cell_type": "code",
   "execution_count": 6,
   "metadata": {},
   "outputs": [
    {
     "data": {
      "text/plain": [
       "(array([0.   , 0.   , 0.   , 0.006, 0.01 , 0.018, 0.072, 0.176, 0.3  ,\n",
       "        0.358, 0.422, 0.294, 0.204, 0.096, 0.03 , 0.012, 0.002, 0.   ,\n",
       "        0.   , 0.   ]),\n",
       " array([-5. , -4.5, -4. , -3.5, -3. , -2.5, -2. , -1.5, -1. , -0.5,  0. ,\n",
       "         0.5,  1. ,  1.5,  2. ,  2.5,  3. ,  3.5,  4. ,  4.5,  5. ]),\n",
       " <a list of 20 Patch objects>)"
      ]
     },
     "execution_count": 6,
     "metadata": {},
     "output_type": "execute_result"
    },
    {
     "data": {
      "image/png": "[encoded data removed]",
      "text/plain": [
       "<Figure size 432x288 with 1 Axes>"
      ]
     },
     "metadata": {
      "needs_background": "light"
     },
     "output_type": "display_data"
    }
   ],
   "source": [
    "plt.hist(x, density=True, bins=np.linspace(-5, 5, 21))"
   ]
  },
  {
   "cell_type": "code",
   "execution_count": 13,
   "metadata": {},
   "outputs": [
    {
     "data": {
      "text/plain": [
       "(array([0.12004, 0.3253 , 0.52014, 0.6754 , 0.78573, 0.86112, 0.9117 ,\n",
       "        0.94451, 0.96595, 0.97922, 0.98703, 0.99196, 0.99526, 0.99707,\n",
       "        0.99822, 0.99904, 0.99941, 0.9997 , 0.9998 , 0.99985, 0.99992,\n",
       "        0.99997, 0.99999, 0.99999, 0.99999, 0.99999, 0.99999, 0.99999,\n",
       "        0.99999, 1.     ]),\n",
       " array([3.59426800e-02, 1.76996507e+00, 3.50398746e+00, 5.23800985e+00,\n",
       "        6.97203224e+00, 8.70605463e+00, 1.04400770e+01, 1.21740994e+01,\n",
       "        1.39081218e+01, 1.56421442e+01, 1.73761666e+01, 1.91101890e+01,\n",
       "        2.08442114e+01, 2.25782337e+01, 2.43122561e+01, 2.60462785e+01,\n",
       "        2.77803009e+01, 2.95143233e+01, 3.12483457e+01, 3.29823681e+01,\n",
       "        3.47163905e+01, 3.64504129e+01, 3.81844352e+01, 3.99184576e+01,\n",
       "        4.16524800e+01, 4.33865024e+01, 4.51205248e+01, 4.68545472e+01,\n",
       "        4.85885696e+01, 5.03225920e+01, 5.20566144e+01]),\n",
       " <a list of 1 Patch objects>)"
      ]
     },
     "execution_count": 13,
     "metadata": {},
     "output_type": "execute_result"
    },
    {
     "data": {
      "image/png": "[encoded data removed]",
      "text/plain": [
       "<Figure size 432x288 with 4 Axes>"
      ]
     },
     "metadata": {
      "needs_background": "light"
     },
     "output_type": "display_data"
    }
   ],
   "source": [
    "x = np.random.gamma(2,3,100000)\n",
    "plt.figure()\n",
    "plt.subplot(221)\n",
    "plt.hist(x, bins=30)\n",
    "plt.subplot(222)\n",
    "plt.hist(x, bins=30, density=True)\n",
    "plt.subplot(223)\n",
    "plt.hist(x, bins=30, cumulative=30)\n",
    "plt.subplot(224)\n",
    "plt.hist(x, bins=30, density=True, cumulative=True, histtype=\"step\")"
   ]
  },
  {
   "cell_type": "code",
   "execution_count": null,
   "metadata": {},
   "outputs": [],
   "source": []
  }
 ],
 "metadata": {
  "kernelspec": {
   "display_name": "Python 3",
   "language": "python",
   "name": "python3"
  },
  "language_info": {
   "codemirror_mode": {
    "name": "ipython",
    "version": 3
   },
   "file_extension": ".py",
   "mimetype": "text/x-python",
   "name": "python",
   "nbconvert_exporter": "python",
   "pygments_lexer": "ipython3",
   "version": "3.7.6"
  }
 },
 "nbformat": 4,
 "nbformat_minor": 4
}
