{
 "cells": [
  {
   "cell_type": "code",
   "execution_count": 6,
   "metadata": {},
   "outputs": [],
   "source": [
    "import time\n",
    "import random"
   ]
  },
  {
   "cell_type": "code",
   "execution_count": 14,
   "metadata": {},
   "outputs": [
    {
     "name": "stdout",
     "output_type": "stream",
     "text": [
      "native 8.496503374999975\n"
     ]
    }
   ],
   "source": [
    "start_time = time.perf_counter()\n",
    "ys = []\n",
    "for rep in range(1000000):\n",
    "    y = 0\n",
    "    for k in range(10):\n",
    "        x = random.choice(range(1, 7))\n",
    "        y += x\n",
    "    ys.append(y)\n",
    "end_time = time.perf_counter()\n",
    "native_performance = end_time - start_time\n",
    "print(\"native\", native_performance)"
   ]
  },
  {
   "cell_type": "code",
   "execution_count": 15,
   "metadata": {},
   "outputs": [
    {
     "name": "stdout",
     "output_type": "stream",
     "text": [
      "np 0.15359542399994552\n"
     ]
    }
   ],
   "source": [
    "import numpy as np\n",
    "\n",
    "start_time = time.perf_counter()\n",
    "X = np.random.randint(1, 7, (1000000, 10))\n",
    "Y = np.sum(X, axis=1)\n",
    "end_time = time.perf_counter()\n",
    "np_performance = end_time - start_time\n",
    "print(\"np\", np_performance)"
   ]
  },
  {
   "cell_type": "code",
   "execution_count": 17,
   "metadata": {},
   "outputs": [
    {
     "name": "stdout",
     "output_type": "stream",
     "text": [
      "improvement 55.31742517930084\n"
     ]
    }
   ],
   "source": [
    "print(\"improvement\", native_performance / np_performance)"
   ]
  },
  {
   "cell_type": "code",
   "execution_count": null,
   "metadata": {},
   "outputs": [],
   "source": []
  }
 ],
 "metadata": {
  "kernelspec": {
   "display_name": "Python 3",
   "language": "python",
   "name": "python3"
  },
  "language_info": {
   "codemirror_mode": {
    "name": "ipython",
    "version": 3
   },
   "file_extension": ".py",
   "mimetype": "text/x-python",
   "name": "python",
   "nbconvert_exporter": "python",
   "pygments_lexer": "ipython3",
   "version": "3.7.6"
  }
 },
 "nbformat": 4,
 "nbformat_minor": 4
}
