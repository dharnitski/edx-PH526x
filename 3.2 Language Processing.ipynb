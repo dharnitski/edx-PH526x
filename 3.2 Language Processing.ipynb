{
 "cells": [
  {
   "cell_type": "code",
   "execution_count": 10,
   "metadata": {},
   "outputs": [],
   "source": [
    "def read_book(title_path):\n",
    "    \"\"\"\n",
    "    Read a book and return it as a string.\n",
    "    \"\"\"\n",
    "    with open(title_path, \"r\", encoding=\"utf8\") as current_file:\n",
    "        text = current_file.read()\n",
    "        text = text.replace(\"\\n\", \"\").replace(\"\\r\", \"\")\n",
    "        return text"
   ]
  },
  {
   "cell_type": "code",
   "execution_count": 11,
   "metadata": {},
   "outputs": [],
   "source": [
    "text = read_book(\"./Books/English/shakespeare/Romeo and Juliet.txt\")"
   ]
  },
  {
   "cell_type": "code",
   "execution_count": 13,
   "metadata": {},
   "outputs": [
    {
     "data": {
      "text/plain": [
       "169275"
      ]
     },
     "execution_count": 13,
     "metadata": {},
     "output_type": "execute_result"
    }
   ],
   "source": [
    "len(text)"
   ]
  },
  {
   "cell_type": "code",
   "execution_count": 14,
   "metadata": {},
   "outputs": [],
   "source": [
    "ind = text.find(\"What's in a name?\")"
   ]
  },
  {
   "cell_type": "code",
   "execution_count": 15,
   "metadata": {},
   "outputs": [
    {
     "data": {
      "text/plain": [
       "42757"
      ]
     },
     "execution_count": 15,
     "metadata": {},
     "output_type": "execute_result"
    }
   ],
   "source": [
    "ind"
   ]
  },
  {
   "cell_type": "code",
   "execution_count": 16,
   "metadata": {},
   "outputs": [],
   "source": [
    "sample_text = text[ind: ind + 1000]"
   ]
  },
  {
   "cell_type": "code",
   "execution_count": 17,
   "metadata": {
    "scrolled": true
   },
   "outputs": [
    {
     "data": {
      "text/plain": [
       "\"What's in a name? That which we call a rose    By any other name would smell as sweet.    So Romeo would, were he not Romeo call'd,    Retain that dear perfection which he owes    Without that title. Romeo, doff thy name;    And for that name, which is no part of thee,    Take all myself.  Rom. I take thee at thy word.    Call me but love, and I'll be new baptiz'd;    Henceforth I never will be Romeo.  Jul. What man art thou that, thus bescreen'd in night,    So stumblest on my counsel?  Rom. By a name    I know not how to tell thee who I am.    My name, dear saint, is hateful to myself,    Because it is an enemy to thee.    Had I it written, I would tear the word.  Jul. My ears have yet not drunk a hundred words    Of that tongue's utterance, yet I know the sound.    Art thou not Romeo, and a Montague?  Rom. Neither, fair saint, if either thee dislike.  Jul. How cam'st thou hither, tell me, and wherefore?    The orchard walls are high and hard to climb,    And the place death, conside\""
      ]
     },
     "execution_count": 17,
     "metadata": {},
     "output_type": "execute_result"
    }
   ],
   "source": [
    "sample_text"
   ]
  },
  {
   "cell_type": "code",
   "execution_count": 34,
   "metadata": {},
   "outputs": [],
   "source": [
    "def count_words(text):\n",
    "    \"\"\"\n",
    "    Count the number of times each word occurs in text (str).\n",
    "    Return dictionary where keys are words an values are word counts.\n",
    "    Skip punctuation\n",
    "    \"\"\"\n",
    "    text = text.lower()\n",
    "    skips = [\".\", \",\", \";\", \":\", \"'\", '\"']\n",
    "    for ch in skips:\n",
    "        text = text.replace(ch, \"\")\n",
    "    word_counts = {}\n",
    "    for word in text.split(\" \"):\n",
    "        if word in word_counts:\n",
    "            word_counts[word] += 1\n",
    "        else:\n",
    "            word_counts[word] = 1\n",
    "    return word_counts"
   ]
  },
  {
   "cell_type": "code",
   "execution_count": 35,
   "metadata": {},
   "outputs": [
    {
     "data": {
      "text/plain": [
       "{'whats': 1,\n",
       " 'in': 2,\n",
       " 'a': 5,\n",
       " 'name?': 1,\n",
       " 'that': 6,\n",
       " 'which': 3,\n",
       " 'we': 1,\n",
       " 'call': 2,\n",
       " 'rose': 1,\n",
       " '': 57,\n",
       " 'by': 2,\n",
       " 'any': 1,\n",
       " 'other': 1,\n",
       " 'name': 5,\n",
       " 'would': 3,\n",
       " 'smell': 1,\n",
       " 'as': 1,\n",
       " 'sweet': 1,\n",
       " 'so': 2,\n",
       " 'romeo': 5,\n",
       " 'were': 1,\n",
       " 'he': 2,\n",
       " 'not': 4,\n",
       " 'calld': 1,\n",
       " 'retain': 1,\n",
       " 'dear': 2,\n",
       " 'perfection': 1,\n",
       " 'owes': 1,\n",
       " 'without': 1,\n",
       " 'title': 1,\n",
       " 'doff': 1,\n",
       " 'thy': 2,\n",
       " 'and': 6,\n",
       " 'for': 1,\n",
       " 'is': 3,\n",
       " 'no': 1,\n",
       " 'part': 1,\n",
       " 'of': 2,\n",
       " 'thee': 5,\n",
       " 'take': 2,\n",
       " 'all': 1,\n",
       " 'myself': 2,\n",
       " 'rom': 3,\n",
       " 'i': 7,\n",
       " 'at': 1,\n",
       " 'word': 2,\n",
       " 'me': 2,\n",
       " 'but': 1,\n",
       " 'love': 1,\n",
       " 'ill': 1,\n",
       " 'be': 2,\n",
       " 'new': 1,\n",
       " 'baptizd': 1,\n",
       " 'henceforth': 1,\n",
       " 'never': 1,\n",
       " 'will': 1,\n",
       " 'jul': 3,\n",
       " 'what': 1,\n",
       " 'man': 1,\n",
       " 'art': 2,\n",
       " 'thou': 3,\n",
       " 'thus': 1,\n",
       " 'bescreend': 1,\n",
       " 'night': 1,\n",
       " 'stumblest': 1,\n",
       " 'on': 1,\n",
       " 'my': 3,\n",
       " 'counsel?': 1,\n",
       " 'know': 2,\n",
       " 'how': 2,\n",
       " 'to': 4,\n",
       " 'tell': 2,\n",
       " 'who': 1,\n",
       " 'am': 1,\n",
       " 'saint': 2,\n",
       " 'hateful': 1,\n",
       " 'because': 1,\n",
       " 'it': 2,\n",
       " 'an': 1,\n",
       " 'enemy': 1,\n",
       " 'had': 1,\n",
       " 'written': 1,\n",
       " 'tear': 1,\n",
       " 'the': 4,\n",
       " 'ears': 1,\n",
       " 'have': 1,\n",
       " 'yet': 2,\n",
       " 'drunk': 1,\n",
       " 'hundred': 1,\n",
       " 'words': 1,\n",
       " 'tongues': 1,\n",
       " 'utterance': 1,\n",
       " 'sound': 1,\n",
       " 'montague?': 1,\n",
       " 'neither': 1,\n",
       " 'fair': 1,\n",
       " 'if': 1,\n",
       " 'either': 1,\n",
       " 'dislike': 1,\n",
       " 'camst': 1,\n",
       " 'hither': 1,\n",
       " 'wherefore?': 1,\n",
       " 'orchard': 1,\n",
       " 'walls': 1,\n",
       " 'are': 1,\n",
       " 'high': 1,\n",
       " 'hard': 1,\n",
       " 'climb': 1,\n",
       " 'place': 1,\n",
       " 'death': 1,\n",
       " 'conside': 1}"
      ]
     },
     "execution_count": 35,
     "metadata": {},
     "output_type": "execute_result"
    }
   ],
   "source": [
    "count_words(sample_text)"
   ]
  },
  {
   "cell_type": "code",
   "execution_count": 36,
   "metadata": {},
   "outputs": [],
   "source": [
    "from collections import Counter"
   ]
  },
  {
   "cell_type": "code",
   "execution_count": 37,
   "metadata": {},
   "outputs": [],
   "source": [
    "def count_words_fast(text):\n",
    "    \"\"\"\n",
    "    Count the number of times each word occurs in text (str).\n",
    "    Return dictionary where keys are words an values are word counts.\n",
    "    Skip punctuation\n",
    "    \"\"\"\n",
    "    text = text.lower()\n",
    "    skips = [\".\", \",\", \";\", \":\", \"'\", '\"']\n",
    "    for ch in skips:\n",
    "        text = text.replace(ch, \"\")\n",
    "    word_counts = Counter(text. split(\" \"))\n",
    "    return word_counts"
   ]
  },
  {
   "cell_type": "code",
   "execution_count": 38,
   "metadata": {},
   "outputs": [
    {
     "data": {
      "text/plain": [
       "Counter({'whats': 1,\n",
       "         'in': 2,\n",
       "         'a': 5,\n",
       "         'name?': 1,\n",
       "         'that': 6,\n",
       "         'which': 3,\n",
       "         'we': 1,\n",
       "         'call': 2,\n",
       "         'rose': 1,\n",
       "         '': 57,\n",
       "         'by': 2,\n",
       "         'any': 1,\n",
       "         'other': 1,\n",
       "         'name': 5,\n",
       "         'would': 3,\n",
       "         'smell': 1,\n",
       "         'as': 1,\n",
       "         'sweet': 1,\n",
       "         'so': 2,\n",
       "         'romeo': 5,\n",
       "         'were': 1,\n",
       "         'he': 2,\n",
       "         'not': 4,\n",
       "         'calld': 1,\n",
       "         'retain': 1,\n",
       "         'dear': 2,\n",
       "         'perfection': 1,\n",
       "         'owes': 1,\n",
       "         'without': 1,\n",
       "         'title': 1,\n",
       "         'doff': 1,\n",
       "         'thy': 2,\n",
       "         'and': 6,\n",
       "         'for': 1,\n",
       "         'is': 3,\n",
       "         'no': 1,\n",
       "         'part': 1,\n",
       "         'of': 2,\n",
       "         'thee': 5,\n",
       "         'take': 2,\n",
       "         'all': 1,\n",
       "         'myself': 2,\n",
       "         'rom': 3,\n",
       "         'i': 7,\n",
       "         'at': 1,\n",
       "         'word': 2,\n",
       "         'me': 2,\n",
       "         'but': 1,\n",
       "         'love': 1,\n",
       "         'ill': 1,\n",
       "         'be': 2,\n",
       "         'new': 1,\n",
       "         'baptizd': 1,\n",
       "         'henceforth': 1,\n",
       "         'never': 1,\n",
       "         'will': 1,\n",
       "         'jul': 3,\n",
       "         'what': 1,\n",
       "         'man': 1,\n",
       "         'art': 2,\n",
       "         'thou': 3,\n",
       "         'thus': 1,\n",
       "         'bescreend': 1,\n",
       "         'night': 1,\n",
       "         'stumblest': 1,\n",
       "         'on': 1,\n",
       "         'my': 3,\n",
       "         'counsel?': 1,\n",
       "         'know': 2,\n",
       "         'how': 2,\n",
       "         'to': 4,\n",
       "         'tell': 2,\n",
       "         'who': 1,\n",
       "         'am': 1,\n",
       "         'saint': 2,\n",
       "         'hateful': 1,\n",
       "         'because': 1,\n",
       "         'it': 2,\n",
       "         'an': 1,\n",
       "         'enemy': 1,\n",
       "         'had': 1,\n",
       "         'written': 1,\n",
       "         'tear': 1,\n",
       "         'the': 4,\n",
       "         'ears': 1,\n",
       "         'have': 1,\n",
       "         'yet': 2,\n",
       "         'drunk': 1,\n",
       "         'hundred': 1,\n",
       "         'words': 1,\n",
       "         'tongues': 1,\n",
       "         'utterance': 1,\n",
       "         'sound': 1,\n",
       "         'montague?': 1,\n",
       "         'neither': 1,\n",
       "         'fair': 1,\n",
       "         'if': 1,\n",
       "         'either': 1,\n",
       "         'dislike': 1,\n",
       "         'camst': 1,\n",
       "         'hither': 1,\n",
       "         'wherefore?': 1,\n",
       "         'orchard': 1,\n",
       "         'walls': 1,\n",
       "         'are': 1,\n",
       "         'high': 1,\n",
       "         'hard': 1,\n",
       "         'climb': 1,\n",
       "         'place': 1,\n",
       "         'death': 1,\n",
       "         'conside': 1})"
      ]
     },
     "execution_count": 38,
     "metadata": {},
     "output_type": "execute_result"
    }
   ],
   "source": [
    "count_words_fast(sample_text)"
   ]
  },
  {
   "cell_type": "code",
   "execution_count": 39,
   "metadata": {},
   "outputs": [
    {
     "data": {
      "text/plain": [
       "True"
      ]
     },
     "execution_count": 39,
     "metadata": {},
     "output_type": "execute_result"
    }
   ],
   "source": [
    "count_words(text) == count_words_fast(text)"
   ]
  },
  {
   "cell_type": "code",
   "execution_count": 40,
   "metadata": {},
   "outputs": [],
   "source": [
    "def word_stats(word_counts):\n",
    "    \"\"\"Return number of unique words and words frequencies.\"\"\"\n",
    "    num_unique = len(word_counts)\n",
    "    counts = word_counts.values()\n",
    "    return (num_unique, counts)"
   ]
  },
  {
   "cell_type": "code",
   "execution_count": 41,
   "metadata": {},
   "outputs": [],
   "source": [
    "word_counts = count_words_fast(text)"
   ]
  },
  {
   "cell_type": "code",
   "execution_count": 42,
   "metadata": {},
   "outputs": [],
   "source": [
    "(num_unique, counts) = word_stats(word_counts)"
   ]
  },
  {
   "cell_type": "code",
   "execution_count": 43,
   "metadata": {},
   "outputs": [
    {
     "data": {
      "text/plain": [
       "5118"
      ]
     },
     "execution_count": 43,
     "metadata": {},
     "output_type": "execute_result"
    }
   ],
   "source": [
    "num_unique"
   ]
  },
  {
   "cell_type": "code",
   "execution_count": 44,
   "metadata": {},
   "outputs": [
    {
     "data": {
      "text/plain": [
       "40776"
      ]
     },
     "execution_count": 44,
     "metadata": {},
     "output_type": "execute_result"
    }
   ],
   "source": [
    "sum(counts)"
   ]
  },
  {
   "cell_type": "code",
   "execution_count": 47,
   "metadata": {},
   "outputs": [],
   "source": [
    "text = read_book(\"./Books/German/shakespeare/Romeo und Julia.txt\")\n",
    "word_counts = count_words_fast(text)\n",
    "(num_unique, counts) = word_stats(word_counts)"
   ]
  },
  {
   "cell_type": "code",
   "execution_count": 48,
   "metadata": {},
   "outputs": [
    {
     "data": {
      "text/plain": [
       "7527"
      ]
     },
     "execution_count": 48,
     "metadata": {},
     "output_type": "execute_result"
    }
   ],
   "source": [
    "num_unique"
   ]
  },
  {
   "cell_type": "code",
   "execution_count": 49,
   "metadata": {},
   "outputs": [
    {
     "data": {
      "text/plain": [
       "20311"
      ]
     },
     "execution_count": 49,
     "metadata": {},
     "output_type": "execute_result"
    }
   ],
   "source": [
    "sum(counts)"
   ]
  },
  {
   "cell_type": "code",
   "execution_count": 51,
   "metadata": {},
   "outputs": [],
   "source": [
    "import os"
   ]
  },
  {
   "cell_type": "code",
   "execution_count": 52,
   "metadata": {},
   "outputs": [],
   "source": [
    "book_dir = \"./Books\""
   ]
  },
  {
   "cell_type": "code",
   "execution_count": 77,
   "metadata": {},
   "outputs": [],
   "source": [
    "import pandas as pd\n",
    "stats = pd.DataFrame(columns = (\"language\", \"author\", \"title\", \"length\", \"unique\"))"
   ]
  },
  {
   "cell_type": "code",
   "execution_count": 78,
   "metadata": {},
   "outputs": [
    {
     "name": "stdout",
     "output_type": "stream",
     "text": [
      "./Books/English/shakespeare/A Midsummer Night's Dream.txt\n",
      "./Books/English/shakespeare/Hamlet.txt\n",
      "./Books/English/shakespeare/Macbeth.txt\n",
      "./Books/English/shakespeare/Othello.txt\n",
      "./Books/English/shakespeare/Richard III.txt\n",
      "./Books/English/shakespeare/Romeo and Juliet.txt\n",
      "./Books/English/shakespeare/The Merchant of Venice.txt\n",
      "./Books/French/chevalier/L'a╠èle de sable.txt\n",
      "./Books/French/chevalier/L'enfer et le paradis de l'autre monde.txt\n",
      "./Books/French/chevalier/La capitaine.txt\n",
      "./Books/French/chevalier/La fille des indiens rouges.txt\n",
      "./Books/French/chevalier/La fille du pirate.txt\n",
      "./Books/French/chevalier/Le chasseur noir.txt\n",
      "./Books/French/chevalier/Les derniers Iroquois.txt\n",
      "./Books/French/de Maupassant/Boule de Suif.txt\n",
      "./Books/French/de Maupassant/Claire de Lune.txt\n",
      "./Books/French/de Maupassant/Contes de la Becasse.txt\n",
      "./Books/French/de Maupassant/L'inutile beautC╠º.txt\n",
      "./Books/French/de Maupassant/La Main Gauche.txt\n",
      "./Books/French/de Maupassant/La Maison Tellier.txt\n",
      "./Books/French/de Maupassant/La petite roque.txt\n",
      "./Books/French/de Maupassant/Le Horla.txt\n",
      "./Books/French/de Maupassant/┼Æuvres comple╠Çtes de Guy de Maupassant.txt\n",
      "./Books/French/diderot/Ceci n'est pas un conte.txt\n",
      "./Books/French/diderot/Entretien d'un pa╠êre avec ses enfants.txt\n",
      "./Books/French/diderot/L'oiseau blanc.txt\n",
      "./Books/French/diderot/Les deux amis de Bourbonne.txt\n",
      "./Books/French/diderot/Regrets sur ma vieille robe de chambre.txt\n",
      "./Books/French/sand/cora.txt\n",
      "./Books/French/sand/Jacques le fataliste et son maa╠ètre.txt\n",
      "./Books/French/sand/L' Orco.txt\n",
      "./Books/French/sand/La Coupe; Lupo Liverani; Le Toast; Garnier; Le Contrebandier; La Ra╠Çverie O╠ê Paris.txt\n",
      "./Books/French/sand/La Marquise.txt\n",
      "./Books/French/sand/Le Piccinino.txt\n",
      "./Books/French/sand/Le poa╠éme de Myrza.txt\n",
      "./Books/French/sand/Mattea.txt\n",
      "./Books/French/sand/Metella.txt\n",
      "./Books/French/sand/Oeuvres illustrC╠ºes de George Sand.txt\n",
      "./Books/French/sand/Pauline.txt\n",
      "./Books/German/lessing/der freigeist.txt\n",
      "./Books/German/lessing/der junge gelehrte.txt\n",
      "./Books/German/lessing/die juden.txt\n",
      "./Books/German/lessing/emilia galotti.txt\n",
      "./Books/German/lessing/hamburgische dramaturgie.txt\n",
      "./Books/German/lessing/minna von barnhelm.txt\n",
      "./Books/German/lessing/miss sara sampson.txt\n",
      "./Books/German/lessing/philotas.txt\n",
      "./Books/German/raimund/Das MN╠âdchen aus der Feenwelt.txt\n",
      "./Books/German/raimund/Der Alpenki╠énig und der Menschenfeind.txt\n",
      "./Books/German/raimund/Der Barometermacher auf der Zauberinsel.txt\n",
      "./Books/German/raimund/Der Diamant des Geisterki╠énigs.txt\n",
      "./Books/German/raimund/Der Verschwender.txt\n",
      "./Books/German/raimund/Die gefesselte Phantasie.txt\n",
      "./Books/German/raimund/Die unheilbringende Krone.txt\n",
      "./Books/German/raimund/Moisasurs Zauberfluch.txt\n",
      "./Books/German/schiller/Der Neffe als Onkel.txt\n",
      "./Books/German/schiller/Der Parasit, oder die Kunst, sein GlA╠èck zu machen.txt\n",
      "./Books/German/schiller/die braut von messina.txt\n",
      "./Books/German/schiller/Die Huldigung der KA╠ènste.txt\n",
      "./Books/German/schiller/Die Jungfrau von Orleans.txt\n",
      "./Books/German/schiller/Die Piccolomini.txt\n",
      "./Books/German/schiller/Die Verschwi╠érung des Fiesco zu Genua.txt\n",
      "./Books/German/schiller/Kabale und Liebe.txt\n",
      "./Books/German/schiller/Turandot, Prinzessin von China.txt\n",
      "./Books/German/schiller/Wallensteins Lager.txt\n",
      "./Books/German/schiller/Wallensteins Tod.txt\n",
      "./Books/German/shakespeare/Der Kaufmann von Venedig.txt\n",
      "./Books/German/shakespeare/Ein Sommernachtstraum.txt\n",
      "./Books/German/shakespeare/Hamlet.txt\n",
      "./Books/German/shakespeare/Macbeth.txt\n",
      "./Books/German/shakespeare/Othello.txt\n",
      "./Books/German/shakespeare/Richard III.txt\n",
      "./Books/German/shakespeare/Romeo und Julia.txt\n",
      "./Books/Portuguese/branco/A Filha do Arcediago.txt\n",
      "./Books/Portuguese/branco/A Neta do Arcediago.txt\n",
      "./Books/Portuguese/branco/A Queda d'um Anjo.txt\n",
      "./Books/Portuguese/branco/Agulha em Palheiro.txt\n",
      "./Books/Portuguese/branco/Amor de Perdic╠ºa╠âo.txt\n",
      "./Books/Portuguese/branco/Amor de Salvac╠ºa╠âo.txt\n",
      "./Books/Portuguese/branco/Annos de Prosa.txt\n",
      "./Books/Portuguese/branco/Carlota Angela.txt\n",
      "./Books/Portuguese/branco/Estrellas Funestas.txt\n",
      "./Books/Portuguese/branco/Estrellas Prop┬░cias.txt\n",
      "./Books/Portuguese/branco/Lagrimas Abena╠üoadas.txt\n",
      "./Books/Portuguese/branco/Livro de Consolac╠ºa╠âo.txt\n",
      "./Books/Portuguese/branco/O Olho de Vidro.txt\n",
      "./Books/Portuguese/branco/O que fazem mulheres.txt\n",
      "./Books/Portuguese/branco/O Regicida.txt\n",
      "./Books/Portuguese/branco/Scenas Contemporaneas.txt\n",
      "./Books/Portuguese/dinis/A Morgadinha dos Cannaviaes.txt\n",
      "./Books/Portuguese/dinis/Os fidalgos da Casa Mourisca.txt\n",
      "./Books/Portuguese/dinis/Uma fam┬░lia ingleza.txt\n",
      "./Books/Portuguese/Queir┬ós/A Cidade e as Serras.txt\n",
      "./Books/Portuguese/Queir┬ós/A corresponda╠Çncia de Fradique Mendes.txt\n",
      "./Books/Portuguese/Queir┬ós/A Illustre Casa de Ramires.txt\n",
      "./Books/Portuguese/Queir┬ós/A Rel┬░quia.txt\n",
      "./Books/Portuguese/Queir┬ós/Cartas de Inglaterra.txt\n",
      "./Books/Portuguese/Queir┬ós/O crime do padre Amaro.txt\n",
      "./Books/Portuguese/Queir┬ós/O Mandarim.txt\n",
      "./Books/Portuguese/Queir┬ós/O Primo Bazilio.txt\n",
      "./Books/Portuguese/Queir┬ós/Os Maias.txt\n",
      "./Books/Portuguese/shakespeare/Hamlet.txt\n"
     ]
    }
   ],
   "source": [
    "title_num = 1\n",
    "for language in os.listdir(book_dir):\n",
    "    for author in os.listdir(book_dir + \"/\" + language):\n",
    "        for title in os.listdir(book_dir + \"/\" + language + \"/\" + author):\n",
    "            inputfile = book_dir + \"/\" + language + \"/\" + author + \"/\" + title\n",
    "            print(inputfile)\n",
    "            text = read_book(inputfile)\n",
    "            (num_unique, counts) = word_stats(count_words_fast(text))\n",
    "            stats.loc[title_num] = language, author.capitalize(), title.replace(\".txt\", \"\"), sum(counts), num_unique\n",
    "            title_num += 1"
   ]
  },
  {
   "cell_type": "code",
   "execution_count": 79,
   "metadata": {},
   "outputs": [
    {
     "data": {
      "text/html": [
       "<div>\n",
       "<style scoped>\n",
       "    .dataframe tbody tr th:only-of-type {\n",
       "        vertical-align: middle;\n",
       "    }\n",
       "\n",
       "    .dataframe tbody tr th {\n",
       "        vertical-align: top;\n",
       "    }\n",
       "\n",
       "    .dataframe thead th {\n",
       "        text-align: right;\n",
       "    }\n",
       "</style>\n",
       "<table border=\"1\" class=\"dataframe\">\n",
       "  <thead>\n",
       "    <tr style=\"text-align: right;\">\n",
       "      <th></th>\n",
       "      <th>language</th>\n",
       "      <th>author</th>\n",
       "      <th>title</th>\n",
       "      <th>length</th>\n",
       "      <th>unique</th>\n",
       "    </tr>\n",
       "  </thead>\n",
       "  <tbody>\n",
       "    <tr>\n",
       "      <th>1</th>\n",
       "      <td>English</td>\n",
       "      <td>Shakespeare</td>\n",
       "      <td>A Midsummer Night's Dream</td>\n",
       "      <td>16103</td>\n",
       "      <td>4345</td>\n",
       "    </tr>\n",
       "    <tr>\n",
       "      <th>2</th>\n",
       "      <td>English</td>\n",
       "      <td>Shakespeare</td>\n",
       "      <td>Hamlet</td>\n",
       "      <td>28551</td>\n",
       "      <td>6776</td>\n",
       "    </tr>\n",
       "    <tr>\n",
       "      <th>3</th>\n",
       "      <td>English</td>\n",
       "      <td>Shakespeare</td>\n",
       "      <td>Macbeth</td>\n",
       "      <td>16874</td>\n",
       "      <td>4780</td>\n",
       "    </tr>\n",
       "    <tr>\n",
       "      <th>4</th>\n",
       "      <td>English</td>\n",
       "      <td>Shakespeare</td>\n",
       "      <td>Othello</td>\n",
       "      <td>26590</td>\n",
       "      <td>5898</td>\n",
       "    </tr>\n",
       "    <tr>\n",
       "      <th>5</th>\n",
       "      <td>English</td>\n",
       "      <td>Shakespeare</td>\n",
       "      <td>Richard III</td>\n",
       "      <td>48315</td>\n",
       "      <td>5449</td>\n",
       "    </tr>\n",
       "    <tr>\n",
       "      <th>...</th>\n",
       "      <td>...</td>\n",
       "      <td>...</td>\n",
       "      <td>...</td>\n",
       "      <td>...</td>\n",
       "      <td>...</td>\n",
       "    </tr>\n",
       "    <tr>\n",
       "      <th>98</th>\n",
       "      <td>Portuguese</td>\n",
       "      <td>Queir┬ós</td>\n",
       "      <td>O crime do padre Amaro</td>\n",
       "      <td>128630</td>\n",
       "      <td>29300</td>\n",
       "    </tr>\n",
       "    <tr>\n",
       "      <th>99</th>\n",
       "      <td>Portuguese</td>\n",
       "      <td>Queir┬ós</td>\n",
       "      <td>O Mandarim</td>\n",
       "      <td>21440</td>\n",
       "      <td>7836</td>\n",
       "    </tr>\n",
       "    <tr>\n",
       "      <th>100</th>\n",
       "      <td>Portuguese</td>\n",
       "      <td>Queir┬ós</td>\n",
       "      <td>O Primo Bazilio</td>\n",
       "      <td>107303</td>\n",
       "      <td>27644</td>\n",
       "    </tr>\n",
       "    <tr>\n",
       "      <th>101</th>\n",
       "      <td>Portuguese</td>\n",
       "      <td>Queir┬ós</td>\n",
       "      <td>Os Maias</td>\n",
       "      <td>195771</td>\n",
       "      <td>40665</td>\n",
       "    </tr>\n",
       "    <tr>\n",
       "      <th>102</th>\n",
       "      <td>Portuguese</td>\n",
       "      <td>Shakespeare</td>\n",
       "      <td>Hamlet</td>\n",
       "      <td>30567</td>\n",
       "      <td>9700</td>\n",
       "    </tr>\n",
       "  </tbody>\n",
       "</table>\n",
       "<p>102 rows × 5 columns</p>\n",
       "</div>"
      ],
      "text/plain": [
       "       language       author                      title  length unique\n",
       "1       English  Shakespeare  A Midsummer Night's Dream   16103   4345\n",
       "2       English  Shakespeare                     Hamlet   28551   6776\n",
       "3       English  Shakespeare                    Macbeth   16874   4780\n",
       "4       English  Shakespeare                    Othello   26590   5898\n",
       "5       English  Shakespeare                Richard III   48315   5449\n",
       "..          ...          ...                        ...     ...    ...\n",
       "98   Portuguese     Queir┬ós     O crime do padre Amaro  128630  29300\n",
       "99   Portuguese     Queir┬ós                 O Mandarim   21440   7836\n",
       "100  Portuguese     Queir┬ós            O Primo Bazilio  107303  27644\n",
       "101  Portuguese     Queir┬ós                   Os Maias  195771  40665\n",
       "102  Portuguese  Shakespeare                     Hamlet   30567   9700\n",
       "\n",
       "[102 rows x 5 columns]"
      ]
     },
     "execution_count": 79,
     "metadata": {},
     "output_type": "execute_result"
    }
   ],
   "source": [
    "stats"
   ]
  },
  {
   "cell_type": "code",
   "execution_count": 70,
   "metadata": {},
   "outputs": [],
   "source": [
    "table = pd.DataFrame(columns = (\"name\", \"age\"))"
   ]
  },
  {
   "cell_type": "code",
   "execution_count": 59,
   "metadata": {},
   "outputs": [],
   "source": [
    "table.loc[1] = \"James\", 22"
   ]
  },
  {
   "cell_type": "code",
   "execution_count": 60,
   "metadata": {},
   "outputs": [],
   "source": [
    "table.loc[2] = \"Jess\", 32"
   ]
  },
  {
   "cell_type": "code",
   "execution_count": 61,
   "metadata": {},
   "outputs": [
    {
     "data": {
      "text/html": [
       "<div>\n",
       "<style scoped>\n",
       "    .dataframe tbody tr th:only-of-type {\n",
       "        vertical-align: middle;\n",
       "    }\n",
       "\n",
       "    .dataframe tbody tr th {\n",
       "        vertical-align: top;\n",
       "    }\n",
       "\n",
       "    .dataframe thead th {\n",
       "        text-align: right;\n",
       "    }\n",
       "</style>\n",
       "<table border=\"1\" class=\"dataframe\">\n",
       "  <thead>\n",
       "    <tr style=\"text-align: right;\">\n",
       "      <th></th>\n",
       "      <th>name</th>\n",
       "      <th>age</th>\n",
       "    </tr>\n",
       "  </thead>\n",
       "  <tbody>\n",
       "    <tr>\n",
       "      <th>1</th>\n",
       "      <td>James</td>\n",
       "      <td>22</td>\n",
       "    </tr>\n",
       "    <tr>\n",
       "      <th>2</th>\n",
       "      <td>Jess</td>\n",
       "      <td>32</td>\n",
       "    </tr>\n",
       "  </tbody>\n",
       "</table>\n",
       "</div>"
      ],
      "text/plain": [
       "    name age\n",
       "1  James  22\n",
       "2   Jess  32"
      ]
     },
     "execution_count": 61,
     "metadata": {},
     "output_type": "execute_result"
    }
   ],
   "source": [
    "table"
   ]
  },
  {
   "cell_type": "code",
   "execution_count": 62,
   "metadata": {},
   "outputs": [
    {
     "data": {
      "text/plain": [
       "Index(['name', 'age'], dtype='object')"
      ]
     },
     "execution_count": 62,
     "metadata": {},
     "output_type": "execute_result"
    }
   ],
   "source": [
    "table.columns"
   ]
  },
  {
   "cell_type": "code",
   "execution_count": null,
   "metadata": {},
   "outputs": [],
   "source": []
  }
 ],
 "metadata": {
  "kernelspec": {
   "display_name": "Python 3",
   "language": "python",
   "name": "python3"
  },
  "language_info": {
   "codemirror_mode": {
    "name": "ipython",
    "version": 3
   },
   "file_extension": ".py",
   "mimetype": "text/x-python",
   "name": "python",
   "nbconvert_exporter": "python",
   "pygments_lexer": "ipython3",
   "version": "3.7.6"
  }
 },
 "nbformat": 4,
 "nbformat_minor": 4
}
