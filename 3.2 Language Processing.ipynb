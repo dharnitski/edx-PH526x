{
 "cells": [
  {
   "cell_type": "code",
   "execution_count": 10,
   "metadata": {},
   "outputs": [],
   "source": [
    "def read_book(title_path):\n",
    "    \"\"\"\n",
    "    Read a book and return it as a string.\n",
    "    \"\"\"\n",
    "    with open(title_path, \"r\", encoding=\"utf8\") as current_file:\n",
    "        text = current_file.read()\n",
    "        text = text.replace(\"\\n\", \"\").replace(\"\\r\", \"\")\n",
    "        return text"
   ]
  },
  {
   "cell_type": "code",
   "execution_count": 11,
   "metadata": {},
   "outputs": [],
   "source": [
    "text = read_book(\"./Books/English/shakespeare/Romeo and Juliet.txt\")"
   ]
  },
  {
   "cell_type": "code",
   "execution_count": 13,
   "metadata": {},
   "outputs": [
    {
     "data": {
      "text/plain": [
       "169275"
      ]
     },
     "execution_count": 13,
     "metadata": {},
     "output_type": "execute_result"
    }
   ],
   "source": [
    "len(text)"
   ]
  },
  {
   "cell_type": "code",
   "execution_count": 14,
   "metadata": {},
   "outputs": [],
   "source": [
    "ind = text.find(\"What's in a name?\")"
   ]
  },
  {
   "cell_type": "code",
   "execution_count": 15,
   "metadata": {},
   "outputs": [
    {
     "data": {
      "text/plain": [
       "42757"
      ]
     },
     "execution_count": 15,
     "metadata": {},
     "output_type": "execute_result"
    }
   ],
   "source": [
    "ind"
   ]
  },
  {
   "cell_type": "code",
   "execution_count": 16,
   "metadata": {},
   "outputs": [],
   "source": [
    "sample_text = text[ind: ind + 1000]"
   ]
  },
  {
   "cell_type": "code",
   "execution_count": 17,
   "metadata": {
    "scrolled": true
   },
   "outputs": [
    {
     "data": {
      "text/plain": [
       "\"What's in a name? That which we call a rose    By any other name would smell as sweet.    So Romeo would, were he not Romeo call'd,    Retain that dear perfection which he owes    Without that title. Romeo, doff thy name;    And for that name, which is no part of thee,    Take all myself.  Rom. I take thee at thy word.    Call me but love, and I'll be new baptiz'd;    Henceforth I never will be Romeo.  Jul. What man art thou that, thus bescreen'd in night,    So stumblest on my counsel?  Rom. By a name    I know not how to tell thee who I am.    My name, dear saint, is hateful to myself,    Because it is an enemy to thee.    Had I it written, I would tear the word.  Jul. My ears have yet not drunk a hundred words    Of that tongue's utterance, yet I know the sound.    Art thou not Romeo, and a Montague?  Rom. Neither, fair saint, if either thee dislike.  Jul. How cam'st thou hither, tell me, and wherefore?    The orchard walls are high and hard to climb,    And the place death, conside\""
      ]
     },
     "execution_count": 17,
     "metadata": {},
     "output_type": "execute_result"
    }
   ],
   "source": [
    "sample_text"
   ]
  },
  {
   "cell_type": "code",
   "execution_count": 34,
   "metadata": {},
   "outputs": [],
   "source": [
    "def count_words(text):\n",
    "    \"\"\"\n",
    "    Count the number of times each word occurs in text (str).\n",
    "    Return dictionary where keys are words an values are word counts.\n",
    "    Skip punctuation\n",
    "    \"\"\"\n",
    "    text = text.lower()\n",
    "    skips = [\".\", \",\", \";\", \":\", \"'\", '\"']\n",
    "    for ch in skips:\n",
    "        text = text.replace(ch, \"\")\n",
    "    word_counts = {}\n",
    "    for word in text.split(\" \"):\n",
    "        if word in word_counts:\n",
    "            word_counts[word] += 1\n",
    "        else:\n",
    "            word_counts[word] = 1\n",
    "    return word_counts"
   ]
  },
  {
   "cell_type": "code",
   "execution_count": 35,
   "metadata": {},
   "outputs": [
    {
     "data": {
      "text/plain": [
       "{'whats': 1,\n",
       " 'in': 2,\n",
       " 'a': 5,\n",
       " 'name?': 1,\n",
       " 'that': 6,\n",
       " 'which': 3,\n",
       " 'we': 1,\n",
       " 'call': 2,\n",
       " 'rose': 1,\n",
       " '': 57,\n",
       " 'by': 2,\n",
       " 'any': 1,\n",
       " 'other': 1,\n",
       " 'name': 5,\n",
       " 'would': 3,\n",
       " 'smell': 1,\n",
       " 'as': 1,\n",
       " 'sweet': 1,\n",
       " 'so': 2,\n",
       " 'romeo': 5,\n",
       " 'were': 1,\n",
       " 'he': 2,\n",
       " 'not': 4,\n",
       " 'calld': 1,\n",
       " 'retain': 1,\n",
       " 'dear': 2,\n",
       " 'perfection': 1,\n",
       " 'owes': 1,\n",
       " 'without': 1,\n",
       " 'title': 1,\n",
       " 'doff': 1,\n",
       " 'thy': 2,\n",
       " 'and': 6,\n",
       " 'for': 1,\n",
       " 'is': 3,\n",
       " 'no': 1,\n",
       " 'part': 1,\n",
       " 'of': 2,\n",
       " 'thee': 5,\n",
       " 'take': 2,\n",
       " 'all': 1,\n",
       " 'myself': 2,\n",
       " 'rom': 3,\n",
       " 'i': 7,\n",
       " 'at': 1,\n",
       " 'word': 2,\n",
       " 'me': 2,\n",
       " 'but': 1,\n",
       " 'love': 1,\n",
       " 'ill': 1,\n",
       " 'be': 2,\n",
       " 'new': 1,\n",
       " 'baptizd': 1,\n",
       " 'henceforth': 1,\n",
       " 'never': 1,\n",
       " 'will': 1,\n",
       " 'jul': 3,\n",
       " 'what': 1,\n",
       " 'man': 1,\n",
       " 'art': 2,\n",
       " 'thou': 3,\n",
       " 'thus': 1,\n",
       " 'bescreend': 1,\n",
       " 'night': 1,\n",
       " 'stumblest': 1,\n",
       " 'on': 1,\n",
       " 'my': 3,\n",
       " 'counsel?': 1,\n",
       " 'know': 2,\n",
       " 'how': 2,\n",
       " 'to': 4,\n",
       " 'tell': 2,\n",
       " 'who': 1,\n",
       " 'am': 1,\n",
       " 'saint': 2,\n",
       " 'hateful': 1,\n",
       " 'because': 1,\n",
       " 'it': 2,\n",
       " 'an': 1,\n",
       " 'enemy': 1,\n",
       " 'had': 1,\n",
       " 'written': 1,\n",
       " 'tear': 1,\n",
       " 'the': 4,\n",
       " 'ears': 1,\n",
       " 'have': 1,\n",
       " 'yet': 2,\n",
       " 'drunk': 1,\n",
       " 'hundred': 1,\n",
       " 'words': 1,\n",
       " 'tongues': 1,\n",
       " 'utterance': 1,\n",
       " 'sound': 1,\n",
       " 'montague?': 1,\n",
       " 'neither': 1,\n",
       " 'fair': 1,\n",
       " 'if': 1,\n",
       " 'either': 1,\n",
       " 'dislike': 1,\n",
       " 'camst': 1,\n",
       " 'hither': 1,\n",
       " 'wherefore?': 1,\n",
       " 'orchard': 1,\n",
       " 'walls': 1,\n",
       " 'are': 1,\n",
       " 'high': 1,\n",
       " 'hard': 1,\n",
       " 'climb': 1,\n",
       " 'place': 1,\n",
       " 'death': 1,\n",
       " 'conside': 1}"
      ]
     },
     "execution_count": 35,
     "metadata": {},
     "output_type": "execute_result"
    }
   ],
   "source": [
    "count_words(sample_text)"
   ]
  },
  {
   "cell_type": "code",
   "execution_count": 36,
   "metadata": {},
   "outputs": [],
   "source": [
    "from collections import Counter"
   ]
  },
  {
   "cell_type": "code",
   "execution_count": 37,
   "metadata": {},
   "outputs": [],
   "source": [
    "def count_words_fast(text):\n",
    "    \"\"\"\n",
    "    Count the number of times each word occurs in text (str).\n",
    "    Return dictionary where keys are words an values are word counts.\n",
    "    Skip punctuation\n",
    "    \"\"\"\n",
    "    text = text.lower()\n",
    "    skips = [\".\", \",\", \";\", \":\", \"'\", '\"']\n",
    "    for ch in skips:\n",
    "        text = text.replace(ch, \"\")\n",
    "    word_counts = Counter(text. split(\" \"))\n",
    "    return word_counts"
   ]
  },
  {
   "cell_type": "code",
   "execution_count": 38,
   "metadata": {},
   "outputs": [
    {
     "data": {
      "text/plain": [
       "Counter({'whats': 1,\n",
       "         'in': 2,\n",
       "         'a': 5,\n",
       "         'name?': 1,\n",
       "         'that': 6,\n",
       "         'which': 3,\n",
       "         'we': 1,\n",
       "         'call': 2,\n",
       "         'rose': 1,\n",
       "         '': 57,\n",
       "         'by': 2,\n",
       "         'any': 1,\n",
       "         'other': 1,\n",
       "         'name': 5,\n",
       "         'would': 3,\n",
       "         'smell': 1,\n",
       "         'as': 1,\n",
       "         'sweet': 1,\n",
       "         'so': 2,\n",
       "         'romeo': 5,\n",
       "         'were': 1,\n",
       "         'he': 2,\n",
       "         'not': 4,\n",
       "         'calld': 1,\n",
       "         'retain': 1,\n",
       "         'dear': 2,\n",
       "         'perfection': 1,\n",
       "         'owes': 1,\n",
       "         'without': 1,\n",
       "         'title': 1,\n",
       "         'doff': 1,\n",
       "         'thy': 2,\n",
       "         'and': 6,\n",
       "         'for': 1,\n",
       "         'is': 3,\n",
       "         'no': 1,\n",
       "         'part': 1,\n",
       "         'of': 2,\n",
       "         'thee': 5,\n",
       "         'take': 2,\n",
       "         'all': 1,\n",
       "         'myself': 2,\n",
       "         'rom': 3,\n",
       "         'i': 7,\n",
       "         'at': 1,\n",
       "         'word': 2,\n",
       "         'me': 2,\n",
       "         'but': 1,\n",
       "         'love': 1,\n",
       "         'ill': 1,\n",
       "         'be': 2,\n",
       "         'new': 1,\n",
       "         'baptizd': 1,\n",
       "         'henceforth': 1,\n",
       "         'never': 1,\n",
       "         'will': 1,\n",
       "         'jul': 3,\n",
       "         'what': 1,\n",
       "         'man': 1,\n",
       "         'art': 2,\n",
       "         'thou': 3,\n",
       "         'thus': 1,\n",
       "         'bescreend': 1,\n",
       "         'night': 1,\n",
       "         'stumblest': 1,\n",
       "         'on': 1,\n",
       "         'my': 3,\n",
       "         'counsel?': 1,\n",
       "         'know': 2,\n",
       "         'how': 2,\n",
       "         'to': 4,\n",
       "         'tell': 2,\n",
       "         'who': 1,\n",
       "         'am': 1,\n",
       "         'saint': 2,\n",
       "         'hateful': 1,\n",
       "         'because': 1,\n",
       "         'it': 2,\n",
       "         'an': 1,\n",
       "         'enemy': 1,\n",
       "         'had': 1,\n",
       "         'written': 1,\n",
       "         'tear': 1,\n",
       "         'the': 4,\n",
       "         'ears': 1,\n",
       "         'have': 1,\n",
       "         'yet': 2,\n",
       "         'drunk': 1,\n",
       "         'hundred': 1,\n",
       "         'words': 1,\n",
       "         'tongues': 1,\n",
       "         'utterance': 1,\n",
       "         'sound': 1,\n",
       "         'montague?': 1,\n",
       "         'neither': 1,\n",
       "         'fair': 1,\n",
       "         'if': 1,\n",
       "         'either': 1,\n",
       "         'dislike': 1,\n",
       "         'camst': 1,\n",
       "         'hither': 1,\n",
       "         'wherefore?': 1,\n",
       "         'orchard': 1,\n",
       "         'walls': 1,\n",
       "         'are': 1,\n",
       "         'high': 1,\n",
       "         'hard': 1,\n",
       "         'climb': 1,\n",
       "         'place': 1,\n",
       "         'death': 1,\n",
       "         'conside': 1})"
      ]
     },
     "execution_count": 38,
     "metadata": {},
     "output_type": "execute_result"
    }
   ],
   "source": [
    "count_words_fast(sample_text)"
   ]
  },
  {
   "cell_type": "code",
   "execution_count": 39,
   "metadata": {},
   "outputs": [
    {
     "data": {
      "text/plain": [
       "True"
      ]
     },
     "execution_count": 39,
     "metadata": {},
     "output_type": "execute_result"
    }
   ],
   "source": [
    "count_words(text) == count_words_fast(text)"
   ]
  },
  {
   "cell_type": "code",
   "execution_count": 40,
   "metadata": {},
   "outputs": [],
   "source": [
    "def word_stats(word_counts):\n",
    "    \"\"\"Return number of unique words and words frequencies.\"\"\"\n",
    "    num_unique = len(word_counts)\n",
    "    counts = word_counts.values()\n",
    "    return (num_unique, counts)"
   ]
  },
  {
   "cell_type": "code",
   "execution_count": 41,
   "metadata": {},
   "outputs": [],
   "source": [
    "word_counts = count_words_fast(text)"
   ]
  },
  {
   "cell_type": "code",
   "execution_count": 42,
   "metadata": {},
   "outputs": [],
   "source": [
    "(num_unique, counts) = word_stats(word_counts)"
   ]
  },
  {
   "cell_type": "code",
   "execution_count": 43,
   "metadata": {},
   "outputs": [
    {
     "data": {
      "text/plain": [
       "5118"
      ]
     },
     "execution_count": 43,
     "metadata": {},
     "output_type": "execute_result"
    }
   ],
   "source": [
    "num_unique"
   ]
  },
  {
   "cell_type": "code",
   "execution_count": 44,
   "metadata": {},
   "outputs": [
    {
     "data": {
      "text/plain": [
       "40776"
      ]
     },
     "execution_count": 44,
     "metadata": {},
     "output_type": "execute_result"
    }
   ],
   "source": [
    "sum(counts)"
   ]
  },
  {
   "cell_type": "code",
   "execution_count": 47,
   "metadata": {},
   "outputs": [],
   "source": [
    "text = read_book(\"./Books/German/shakespeare/Romeo und Julia.txt\")\n",
    "word_counts = count_words_fast(text)\n",
    "(num_unique, counts) = word_stats(word_counts)"
   ]
  },
  {
   "cell_type": "code",
   "execution_count": 48,
   "metadata": {},
   "outputs": [
    {
     "data": {
      "text/plain": [
       "7527"
      ]
     },
     "execution_count": 48,
     "metadata": {},
     "output_type": "execute_result"
    }
   ],
   "source": [
    "num_unique"
   ]
  },
  {
   "cell_type": "code",
   "execution_count": 49,
   "metadata": {},
   "outputs": [
    {
     "data": {
      "text/plain": [
       "20311"
      ]
     },
     "execution_count": 49,
     "metadata": {},
     "output_type": "execute_result"
    }
   ],
   "source": [
    "sum(counts)"
   ]
  },
  {
   "cell_type": "code",
   "execution_count": null,
   "metadata": {},
   "outputs": [],
   "source": []
  }
 ],
 "metadata": {
  "kernelspec": {
   "display_name": "Python 3",
   "language": "python",
   "name": "python3"
  },
  "language_info": {
   "codemirror_mode": {
    "name": "ipython",
    "version": 3
   },
   "file_extension": ".py",
   "mimetype": "text/x-python",
   "name": "python",
   "nbconvert_exporter": "python",
   "pygments_lexer": "ipython3",
   "version": "3.7.6"
  }
 },
 "nbformat": 4,
 "nbformat_minor": 4
}
